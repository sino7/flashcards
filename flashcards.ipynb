{
 "cells": [
  {
   "cell_type": "code",
   "execution_count": 2,
   "metadata": {},
   "outputs": [],
   "source": [
    "import pickle as pk\n",
    "import numpy as np\n",
    "from IPython.display import display, Markdown, Latex, clear_output"
   ]
  },
  {
   "cell_type": "markdown",
   "metadata": {},
   "source": [
    "# Short notebook to write and practice on flashcards\n",
    "\n",
    "Each flashcard is associated with a knowledge level. When you answer a flashcard correctly, it advances to the next knowledge level, and if you fail to answer, it goes back to the previous knowledge level.\n",
    "\n",
    "To avoir implementing the spaced repetition technique, this simpler version associates decreasing probabilities with higher levels of\n",
    "\n",
    "## 1. Write into the dataset"
   ]
  },
  {
   "cell_type": "code",
   "execution_count": 2,
   "metadata": {},
   "outputs": [
    {
     "name": "stdout",
     "output_type": "stream",
     "text": [
      "Write question : \n"
     ]
    }
   ],
   "source": [
    "flashcards = pk.load(open(\"flashcards.pk\", 'rb'))\n",
    "\n",
    "while(True):\n",
    "    question = input('Write question : ')\n",
    "    if question=='':\n",
    "        break\n",
    "    answer = input('Write answer : ')\n",
    "    flashcards.append({\n",
    "        'question': question,\n",
    "        'answer': answer,\n",
    "        'knowledge': 0\n",
    "    })\n",
    "    clear_output(wait=False)\n",
    "    \n",
    "pk.dump(flashcards, open(\"flashcards.pk\", \"wb\"))"
   ]
  },
  {
   "cell_type": "markdown",
   "metadata": {},
   "source": [
    "## 2. Practice"
   ]
  },
  {
   "cell_type": "code",
   "execution_count": 3,
   "metadata": {
    "scrolled": false
   },
   "outputs": [],
   "source": [
    "flashcards = pk.load(open(\"flashcards.pk\", \"rb\"))\n",
    "\n",
    "while(True):\n",
    "    \n",
    "    # Randomly choose flashcard index\n",
    "    probas = np.array([2**-fc['knowledge'] for fc in flashcards])\n",
    "    probas = probas/np.sum(probas)\n",
    "    index = np.random.choice(len(flashcards), p=probas)\n",
    "    fc = flashcards[index]\n",
    "    \n",
    "    # Display question\n",
    "    print(\"\\n\\n\\n\\n\\n\\n\\n\\n\\n\\n\\n\\n\\n\")\n",
    "    print(\"Knowledge : \" + str(fc['knowledge']) + \"\\n\")\n",
    "    display(Latex(f'%s'%fc['question']))    \n",
    "    answer = input(\"\")\n",
    "    \n",
    "    # Process answer\n",
    "    if answer=='d':\n",
    "        del(flashcards[index])\n",
    "    elif answer=='s':\n",
    "        clear_output(wait=False)\n",
    "        break\n",
    "    else:\n",
    "        display(Latex(f'%s'%fc['answer']))    \n",
    "        answer = input('-> ')\n",
    "        if answer=='y':\n",
    "            fc['knowledge'] += 1\n",
    "        elif answer=='n':\n",
    "            fc['knowledge'] = max(0, flashcards[index]['knowledge']-1)\n",
    "        elif answer=='d':\n",
    "            del(flashcards[index])\n",
    "        elif answer=='edit answer':\n",
    "            new_answer = input('->')\n",
    "            fc['answer'] = new_answer\n",
    "        elif answer=='edit question':\n",
    "            new_question = input('->')\n",
    "            fc['question'] = new_question\n",
    "        else:\n",
    "            break\n",
    "    clear_output(wait=False)\n",
    "\n",
    "pk.dump(flashcards, open(\"flashcards.pk\", \"wb\"))"
   ]
  },
  {
   "cell_type": "markdown",
   "metadata": {},
   "source": [
    ".\n",
    "\n",
    ".\n",
    "\n",
    ".\n",
    "\n",
    ".\n",
    "\n",
    ".\n",
    "\n",
    ".\n",
    "\n",
    ".\n",
    "\n",
    ".\n",
    "\n",
    ".\n",
    "\n",
    "."
   ]
  },
  {
   "cell_type": "markdown",
   "metadata": {},
   "source": [
    "# 3. View progress"
   ]
  },
  {
   "cell_type": "code",
   "execution_count": 4,
   "metadata": {},
   "outputs": [
    {
     "data": {
      "image/png": "[encoded data removed]",
      "text/plain": [
       "<Figure size 432x288 with 1 Axes>"
      ]
     },
     "metadata": {
      "needs_background": "light"
     },
     "output_type": "display_data"
    }
   ],
   "source": [
    "from matplotlib import pyplot as plt\n",
    "plt.figure()\n",
    "levels = np.array([fc['knowledge'] for fc in flashcards])\n",
    "max_lvl = np.max(levels)\n",
    "plt.bar(range(max_lvl +1 ), [np.sum(levels==i) for i in range(max_lvl+1)])\n",
    "plt.show()"
   ]
  },
  {
   "cell_type": "code",
   "execution_count": null,
   "metadata": {},
   "outputs": [],
   "source": []
  }
 ],
 "metadata": {
  "kernelspec": {
   "display_name": "Python 3",
   "language": "python",
   "name": "python3"
  },
  "language_info": {
   "codemirror_mode": {
    "name": "ipython",
    "version": 3
   },
   "file_extension": ".py",
   "mimetype": "text/x-python",
   "name": "python",
   "nbconvert_exporter": "python",
   "pygments_lexer": "ipython3",
   "version": "3.7.0"
  }
 },
 "nbformat": 4,
 "nbformat_minor": 2
}
